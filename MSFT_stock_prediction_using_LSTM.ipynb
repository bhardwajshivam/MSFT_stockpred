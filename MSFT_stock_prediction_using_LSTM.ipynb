{
  "cells": [
    {
      "cell_type": "markdown",
      "metadata": {
        "id": "view-in-github",
        "colab_type": "text"
      },
      "source": [
        "<a href=\"https://colab.research.google.com/github/bhardwajshivam/MSFT_stockpred/blob/main/MSFT_stock_prediction_using_LSTM.ipynb\" target=\"_parent\"><img src=\"https://colab.research.google.com/assets/colab-badge.svg\" alt=\"Open In Colab\"/></a>"
      ]
    },
    {
      "cell_type": "markdown",
      "metadata": {
        "id": "t8oAxVvwZrha"
      },
      "source": [
        "# Time Series Analysis of `MSFT, Inc.` stock values"
      ]
    },
    {
      "cell_type": "markdown",
      "metadata": {
        "id": "oY5oazuCZrhc"
      },
      "source": [
        "Time series analysis refers to the analysis of change in the trend of the data over a period of time. Time series analysis has a variety of applications. One such application is the prediction of the future value of an item based on its past values.  \n",
        "We will demonstrate time series analysis with the help of an LSTM network. We will be predicting the future stock prices of the Apple Company (AAPL), based on its stock prices of the past 7 years."
      ]
    },
    {
      "cell_type": "code",
      "source": [
        "!pip install tensorflow"
      ],
      "metadata": {
        "colab": {
          "base_uri": "https://localhost:8080/"
        },
        "id": "lJUw9eW9Z1iu",
        "outputId": "fb00700f-7502-457b-bb2e-e346c18abb92"
      },
      "execution_count": null,
      "outputs": [
        {
          "output_type": "stream",
          "name": "stdout",
          "text": [
            "Requirement already satisfied: tensorflow in /usr/local/lib/python3.10/dist-packages (2.14.0)\n",
            "Requirement already satisfied: absl-py>=1.0.0 in /usr/local/lib/python3.10/dist-packages (from tensorflow) (1.4.0)\n",
            "Requirement already satisfied: astunparse>=1.6.0 in /usr/local/lib/python3.10/dist-packages (from tensorflow) (1.6.3)\n",
            "Requirement already satisfied: flatbuffers>=23.5.26 in /usr/local/lib/python3.10/dist-packages (from tensorflow) (23.5.26)\n",
            "Requirement already satisfied: gast!=0.5.0,!=0.5.1,!=0.5.2,>=0.2.1 in /usr/local/lib/python3.10/dist-packages (from tensorflow) (0.5.4)\n",
            "Requirement already satisfied: google-pasta>=0.1.1 in /usr/local/lib/python3.10/dist-packages (from tensorflow) (0.2.0)\n",
            "Requirement already satisfied: h5py>=2.9.0 in /usr/local/lib/python3.10/dist-packages (from tensorflow) (3.9.0)\n",
            "Requirement already satisfied: libclang>=13.0.0 in /usr/local/lib/python3.10/dist-packages (from tensorflow) (16.0.6)\n",
            "Requirement already satisfied: ml-dtypes==0.2.0 in /usr/local/lib/python3.10/dist-packages (from tensorflow) (0.2.0)\n",
            "Requirement already satisfied: numpy>=1.23.5 in /usr/local/lib/python3.10/dist-packages (from tensorflow) (1.23.5)\n",
            "Requirement already satisfied: opt-einsum>=2.3.2 in /usr/local/lib/python3.10/dist-packages (from tensorflow) (3.3.0)\n",
            "Requirement already satisfied: packaging in /usr/local/lib/python3.10/dist-packages (from tensorflow) (23.2)\n",
            "Requirement already satisfied: protobuf!=4.21.0,!=4.21.1,!=4.21.2,!=4.21.3,!=4.21.4,!=4.21.5,<5.0.0dev,>=3.20.3 in /usr/local/lib/python3.10/dist-packages (from tensorflow) (3.20.3)\n",
            "Requirement already satisfied: setuptools in /usr/local/lib/python3.10/dist-packages (from tensorflow) (67.7.2)\n",
            "Requirement already satisfied: six>=1.12.0 in /usr/local/lib/python3.10/dist-packages (from tensorflow) (1.16.0)\n",
            "Requirement already satisfied: termcolor>=1.1.0 in /usr/local/lib/python3.10/dist-packages (from tensorflow) (2.3.0)\n",
            "Requirement already satisfied: typing-extensions>=3.6.6 in /usr/local/lib/python3.10/dist-packages (from tensorflow) (4.5.0)\n",
            "Requirement already satisfied: wrapt<1.15,>=1.11.0 in /usr/local/lib/python3.10/dist-packages (from tensorflow) (1.14.1)\n",
            "Requirement already satisfied: tensorflow-io-gcs-filesystem>=0.23.1 in /usr/local/lib/python3.10/dist-packages (from tensorflow) (0.34.0)\n",
            "Requirement already satisfied: grpcio<2.0,>=1.24.3 in /usr/local/lib/python3.10/dist-packages (from tensorflow) (1.59.0)\n",
            "Requirement already satisfied: tensorboard<2.15,>=2.14 in /usr/local/lib/python3.10/dist-packages (from tensorflow) (2.14.1)\n",
            "Requirement already satisfied: tensorflow-estimator<2.15,>=2.14.0 in /usr/local/lib/python3.10/dist-packages (from tensorflow) (2.14.0)\n",
            "Requirement already satisfied: keras<2.15,>=2.14.0 in /usr/local/lib/python3.10/dist-packages (from tensorflow) (2.14.0)\n",
            "Requirement already satisfied: wheel<1.0,>=0.23.0 in /usr/local/lib/python3.10/dist-packages (from astunparse>=1.6.0->tensorflow) (0.41.2)\n",
            "Requirement already satisfied: google-auth<3,>=1.6.3 in /usr/local/lib/python3.10/dist-packages (from tensorboard<2.15,>=2.14->tensorflow) (2.17.3)\n",
            "Requirement already satisfied: google-auth-oauthlib<1.1,>=0.5 in /usr/local/lib/python3.10/dist-packages (from tensorboard<2.15,>=2.14->tensorflow) (1.0.0)\n",
            "Requirement already satisfied: markdown>=2.6.8 in /usr/local/lib/python3.10/dist-packages (from tensorboard<2.15,>=2.14->tensorflow) (3.5)\n",
            "Requirement already satisfied: requests<3,>=2.21.0 in /usr/local/lib/python3.10/dist-packages (from tensorboard<2.15,>=2.14->tensorflow) (2.31.0)\n",
            "Requirement already satisfied: tensorboard-data-server<0.8.0,>=0.7.0 in /usr/local/lib/python3.10/dist-packages (from tensorboard<2.15,>=2.14->tensorflow) (0.7.2)\n",
            "Requirement already satisfied: werkzeug>=1.0.1 in /usr/local/lib/python3.10/dist-packages (from tensorboard<2.15,>=2.14->tensorflow) (3.0.1)\n",
            "Requirement already satisfied: cachetools<6.0,>=2.0.0 in /usr/local/lib/python3.10/dist-packages (from google-auth<3,>=1.6.3->tensorboard<2.15,>=2.14->tensorflow) (5.3.2)\n",
            "Requirement already satisfied: pyasn1-modules>=0.2.1 in /usr/local/lib/python3.10/dist-packages (from google-auth<3,>=1.6.3->tensorboard<2.15,>=2.14->tensorflow) (0.3.0)\n",
            "Requirement already satisfied: rsa<5,>=3.1.4 in /usr/local/lib/python3.10/dist-packages (from google-auth<3,>=1.6.3->tensorboard<2.15,>=2.14->tensorflow) (4.9)\n",
            "Requirement already satisfied: requests-oauthlib>=0.7.0 in /usr/local/lib/python3.10/dist-packages (from google-auth-oauthlib<1.1,>=0.5->tensorboard<2.15,>=2.14->tensorflow) (1.3.1)\n",
            "Requirement already satisfied: charset-normalizer<4,>=2 in /usr/local/lib/python3.10/dist-packages (from requests<3,>=2.21.0->tensorboard<2.15,>=2.14->tensorflow) (3.3.1)\n",
            "Requirement already satisfied: idna<4,>=2.5 in /usr/local/lib/python3.10/dist-packages (from requests<3,>=2.21.0->tensorboard<2.15,>=2.14->tensorflow) (3.4)\n",
            "Requirement already satisfied: urllib3<3,>=1.21.1 in /usr/local/lib/python3.10/dist-packages (from requests<3,>=2.21.0->tensorboard<2.15,>=2.14->tensorflow) (2.0.7)\n",
            "Requirement already satisfied: certifi>=2017.4.17 in /usr/local/lib/python3.10/dist-packages (from requests<3,>=2.21.0->tensorboard<2.15,>=2.14->tensorflow) (2023.7.22)\n",
            "Requirement already satisfied: MarkupSafe>=2.1.1 in /usr/local/lib/python3.10/dist-packages (from werkzeug>=1.0.1->tensorboard<2.15,>=2.14->tensorflow) (2.1.3)\n",
            "Requirement already satisfied: pyasn1<0.6.0,>=0.4.6 in /usr/local/lib/python3.10/dist-packages (from pyasn1-modules>=0.2.1->google-auth<3,>=1.6.3->tensorboard<2.15,>=2.14->tensorflow) (0.5.0)\n",
            "Requirement already satisfied: oauthlib>=3.0.0 in /usr/local/lib/python3.10/dist-packages (from requests-oauthlib>=0.7.0->google-auth-oauthlib<1.1,>=0.5->tensorboard<2.15,>=2.14->tensorflow) (3.2.2)\n"
          ]
        }
      ]
    },
    {
      "cell_type": "markdown",
      "metadata": {
        "id": "TOCdUI9dZrhd"
      },
      "source": [
        "For various manipulations we will need Numpy and will plot the results using matplotlib"
      ]
    },
    {
      "cell_type": "code",
      "execution_count": null,
      "metadata": {
        "id": "FrR-Bvj7Zrhd"
      },
      "outputs": [],
      "source": [
        "import numpy as np\n",
        "import matplotlib.pyplot as plt\n",
        "import pandas as pd\n",
        "%matplotlib inline"
      ]
    },
    {
      "cell_type": "markdown",
      "metadata": {
        "id": "7RAx8seCZrhe"
      },
      "source": [
        "I am just curious whether my GPU card is still visible, so let me do the following."
      ]
    },
    {
      "cell_type": "code",
      "execution_count": null,
      "metadata": {
        "id": "y-by2io8Zrhe"
      },
      "outputs": [],
      "source": [
        "import tensorflow as tf"
      ]
    },
    {
      "cell_type": "code",
      "execution_count": null,
      "metadata": {
        "colab": {
          "base_uri": "https://localhost:8080/"
        },
        "id": "fnTQwvt-Zrhe",
        "outputId": "351724ac-de37-4e85-e0e7-b7c5427fc7b7"
      },
      "outputs": [
        {
          "output_type": "stream",
          "name": "stdout",
          "text": [
            "[name: \"/device:CPU:0\"\n",
            "device_type: \"CPU\"\n",
            "memory_limit: 268435456\n",
            "locality {\n",
            "}\n",
            "incarnation: 15618903036600876886\n",
            "xla_global_id: -1\n",
            "]\n"
          ]
        }
      ],
      "source": [
        "from tensorflow.python.client import device_lib\n",
        "print(device_lib.list_local_devices())"
      ]
    },
    {
      "cell_type": "markdown",
      "metadata": {
        "id": "TDl1vfd5Zrhf"
      },
      "source": [
        "The above will work on Google Colab as well, provided you change the runtime and select GPU."
      ]
    },
    {
      "cell_type": "markdown",
      "metadata": {
        "id": "olFOxRnYZrhf"
      },
      "source": [
        "As a data set we will fetch a long string of stock values for a company at Yahoo Finance. For example https://finance.yahoo.com/quote/AAPL/history?p=AAPL&.tsrc=fin-srch .\n",
        "You adjust the start date and the end data of the report and then download the dataset. Fot training data we selected the period between January 4th 2016 to August 31st, 2023. Downloaded data is stored in the file AAPL.csv\n",
        "To test the predictive power of LSTM, we will use the Apple stock prices from the first day of September till October 20th, 2023. So, in order to evaluate the performance of the algorithm, as the test data, create a separate file with Apple's stock prices between September 1st and October 20th, 2023.  "
      ]
    },
    {
      "cell_type": "markdown",
      "metadata": {
        "id": "P8OQlkdpZrhf"
      },
      "source": [
        "Downloaded data are loaded in a panda. Besides the date index, downloaded data have 6 features: Open,\tHigh,\tLow,\tClose,\tAdj Close, and\tVolume.\n",
        "    At the moment, we do not care about all of those features. We will look only at the opening price and ignore the others."
      ]
    },
    {
      "cell_type": "code",
      "execution_count": null,
      "metadata": {
        "id": "igS9__63Zrhf"
      },
      "outputs": [],
      "source": [
        "msft_training_complete = pd.read_csv(r'MSFT.csv')"
      ]
    },
    {
      "cell_type": "code",
      "execution_count": null,
      "metadata": {
        "colab": {
          "base_uri": "https://localhost:8080/",
          "height": 204
        },
        "id": "MMSjYnPOZrhf",
        "outputId": "d466b240-1c43-4ae6-d2ec-acdb07387e5e"
      },
      "outputs": [
        {
          "output_type": "execute_result",
          "data": {
            "text/plain": [
              "            Date        Open        High         Low       Close   Adj Close  \\\n",
              "1923  2023-08-24  332.850006  332.980011  319.959991  319.970001  319.970001   \n",
              "1924  2023-08-25  321.470001  325.359985  318.799988  322.980011  322.980011   \n",
              "1925  2023-08-28  325.660004  326.149994  321.720001  323.700012  323.700012   \n",
              "1926  2023-08-29  321.880005  328.980011  321.880005  328.410004  328.410004   \n",
              "1927  2023-08-30  328.670013  329.809998  326.450012  328.790009  328.790009   \n",
              "\n",
              "        Volume  \n",
              "1923  23281400  \n",
              "1924  21684100  \n",
              "1925  14808500  \n",
              "1926  19284600  \n",
              "1927  15222100  "
            ],
            "text/html": [
              "\n",
              "  <div id=\"df-f7158867-fa84-4aff-8fda-10a78dff27cd\" class=\"colab-df-container\">\n",
              "    <div>\n",
              "<style scoped>\n",
              "    .dataframe tbody tr th:only-of-type {\n",
              "        vertical-align: middle;\n",
              "    }\n",
              "\n",
              "    .dataframe tbody tr th {\n",
              "        vertical-align: top;\n",
              "    }\n",
              "\n",
              "    .dataframe thead th {\n",
              "        text-align: right;\n",
              "    }\n",
              "</style>\n",
              "<table border=\"1\" class=\"dataframe\">\n",
              "  <thead>\n",
              "    <tr style=\"text-align: right;\">\n",
              "      <th></th>\n",
              "      <th>Date</th>\n",
              "      <th>Open</th>\n",
              "      <th>High</th>\n",
              "      <th>Low</th>\n",
              "      <th>Close</th>\n",
              "      <th>Adj Close</th>\n",
              "      <th>Volume</th>\n",
              "    </tr>\n",
              "  </thead>\n",
              "  <tbody>\n",
              "    <tr>\n",
              "      <th>1923</th>\n",
              "      <td>2023-08-24</td>\n",
              "      <td>332.850006</td>\n",
              "      <td>332.980011</td>\n",
              "      <td>319.959991</td>\n",
              "      <td>319.970001</td>\n",
              "      <td>319.970001</td>\n",
              "      <td>23281400</td>\n",
              "    </tr>\n",
              "    <tr>\n",
              "      <th>1924</th>\n",
              "      <td>2023-08-25</td>\n",
              "      <td>321.470001</td>\n",
              "      <td>325.359985</td>\n",
              "      <td>318.799988</td>\n",
              "      <td>322.980011</td>\n",
              "      <td>322.980011</td>\n",
              "      <td>21684100</td>\n",
              "    </tr>\n",
              "    <tr>\n",
              "      <th>1925</th>\n",
              "      <td>2023-08-28</td>\n",
              "      <td>325.660004</td>\n",
              "      <td>326.149994</td>\n",
              "      <td>321.720001</td>\n",
              "      <td>323.700012</td>\n",
              "      <td>323.700012</td>\n",
              "      <td>14808500</td>\n",
              "    </tr>\n",
              "    <tr>\n",
              "      <th>1926</th>\n",
              "      <td>2023-08-29</td>\n",
              "      <td>321.880005</td>\n",
              "      <td>328.980011</td>\n",
              "      <td>321.880005</td>\n",
              "      <td>328.410004</td>\n",
              "      <td>328.410004</td>\n",
              "      <td>19284600</td>\n",
              "    </tr>\n",
              "    <tr>\n",
              "      <th>1927</th>\n",
              "      <td>2023-08-30</td>\n",
              "      <td>328.670013</td>\n",
              "      <td>329.809998</td>\n",
              "      <td>326.450012</td>\n",
              "      <td>328.790009</td>\n",
              "      <td>328.790009</td>\n",
              "      <td>15222100</td>\n",
              "    </tr>\n",
              "  </tbody>\n",
              "</table>\n",
              "</div>\n",
              "    <div class=\"colab-df-buttons\">\n",
              "\n",
              "  <div class=\"colab-df-container\">\n",
              "    <button class=\"colab-df-convert\" onclick=\"convertToInteractive('df-f7158867-fa84-4aff-8fda-10a78dff27cd')\"\n",
              "            title=\"Convert this dataframe to an interactive table.\"\n",
              "            style=\"display:none;\">\n",
              "\n",
              "  <svg xmlns=\"http://www.w3.org/2000/svg\" height=\"24px\" viewBox=\"0 -960 960 960\">\n",
              "    <path d=\"M120-120v-720h720v720H120Zm60-500h600v-160H180v160Zm220 220h160v-160H400v160Zm0 220h160v-160H400v160ZM180-400h160v-160H180v160Zm440 0h160v-160H620v160ZM180-180h160v-160H180v160Zm440 0h160v-160H620v160Z\"/>\n",
              "  </svg>\n",
              "    </button>\n",
              "\n",
              "  <style>\n",
              "    .colab-df-container {\n",
              "      display:flex;\n",
              "      gap: 12px;\n",
              "    }\n",
              "\n",
              "    .colab-df-convert {\n",
              "      background-color: #E8F0FE;\n",
              "      border: none;\n",
              "      border-radius: 50%;\n",
              "      cursor: pointer;\n",
              "      display: none;\n",
              "      fill: #1967D2;\n",
              "      height: 32px;\n",
              "      padding: 0 0 0 0;\n",
              "      width: 32px;\n",
              "    }\n",
              "\n",
              "    .colab-df-convert:hover {\n",
              "      background-color: #E2EBFA;\n",
              "      box-shadow: 0px 1px 2px rgba(60, 64, 67, 0.3), 0px 1px 3px 1px rgba(60, 64, 67, 0.15);\n",
              "      fill: #174EA6;\n",
              "    }\n",
              "\n",
              "    .colab-df-buttons div {\n",
              "      margin-bottom: 4px;\n",
              "    }\n",
              "\n",
              "    [theme=dark] .colab-df-convert {\n",
              "      background-color: #3B4455;\n",
              "      fill: #D2E3FC;\n",
              "    }\n",
              "\n",
              "    [theme=dark] .colab-df-convert:hover {\n",
              "      background-color: #434B5C;\n",
              "      box-shadow: 0px 1px 3px 1px rgba(0, 0, 0, 0.15);\n",
              "      filter: drop-shadow(0px 1px 2px rgba(0, 0, 0, 0.3));\n",
              "      fill: #FFFFFF;\n",
              "    }\n",
              "  </style>\n",
              "\n",
              "    <script>\n",
              "      const buttonEl =\n",
              "        document.querySelector('#df-f7158867-fa84-4aff-8fda-10a78dff27cd button.colab-df-convert');\n",
              "      buttonEl.style.display =\n",
              "        google.colab.kernel.accessAllowed ? 'block' : 'none';\n",
              "\n",
              "      async function convertToInteractive(key) {\n",
              "        const element = document.querySelector('#df-f7158867-fa84-4aff-8fda-10a78dff27cd');\n",
              "        const dataTable =\n",
              "          await google.colab.kernel.invokeFunction('convertToInteractive',\n",
              "                                                    [key], {});\n",
              "        if (!dataTable) return;\n",
              "\n",
              "        const docLinkHtml = 'Like what you see? Visit the ' +\n",
              "          '<a target=\"_blank\" href=https://colab.research.google.com/notebooks/data_table.ipynb>data table notebook</a>'\n",
              "          + ' to learn more about interactive tables.';\n",
              "        element.innerHTML = '';\n",
              "        dataTable['output_type'] = 'display_data';\n",
              "        await google.colab.output.renderOutput(dataTable, element);\n",
              "        const docLink = document.createElement('div');\n",
              "        docLink.innerHTML = docLinkHtml;\n",
              "        element.appendChild(docLink);\n",
              "      }\n",
              "    </script>\n",
              "  </div>\n",
              "\n",
              "\n",
              "<div id=\"df-0e768d4a-d32f-4305-a99b-88889751e9fa\">\n",
              "  <button class=\"colab-df-quickchart\" onclick=\"quickchart('df-0e768d4a-d32f-4305-a99b-88889751e9fa')\"\n",
              "            title=\"Suggest charts.\"\n",
              "            style=\"display:none;\">\n",
              "\n",
              "<svg xmlns=\"http://www.w3.org/2000/svg\" height=\"24px\"viewBox=\"0 0 24 24\"\n",
              "     width=\"24px\">\n",
              "    <g>\n",
              "        <path d=\"M19 3H5c-1.1 0-2 .9-2 2v14c0 1.1.9 2 2 2h14c1.1 0 2-.9 2-2V5c0-1.1-.9-2-2-2zM9 17H7v-7h2v7zm4 0h-2V7h2v10zm4 0h-2v-4h2v4z\"/>\n",
              "    </g>\n",
              "</svg>\n",
              "  </button>\n",
              "\n",
              "<style>\n",
              "  .colab-df-quickchart {\n",
              "      --bg-color: #E8F0FE;\n",
              "      --fill-color: #1967D2;\n",
              "      --hover-bg-color: #E2EBFA;\n",
              "      --hover-fill-color: #174EA6;\n",
              "      --disabled-fill-color: #AAA;\n",
              "      --disabled-bg-color: #DDD;\n",
              "  }\n",
              "\n",
              "  [theme=dark] .colab-df-quickchart {\n",
              "      --bg-color: #3B4455;\n",
              "      --fill-color: #D2E3FC;\n",
              "      --hover-bg-color: #434B5C;\n",
              "      --hover-fill-color: #FFFFFF;\n",
              "      --disabled-bg-color: #3B4455;\n",
              "      --disabled-fill-color: #666;\n",
              "  }\n",
              "\n",
              "  .colab-df-quickchart {\n",
              "    background-color: var(--bg-color);\n",
              "    border: none;\n",
              "    border-radius: 50%;\n",
              "    cursor: pointer;\n",
              "    display: none;\n",
              "    fill: var(--fill-color);\n",
              "    height: 32px;\n",
              "    padding: 0;\n",
              "    width: 32px;\n",
              "  }\n",
              "\n",
              "  .colab-df-quickchart:hover {\n",
              "    background-color: var(--hover-bg-color);\n",
              "    box-shadow: 0 1px 2px rgba(60, 64, 67, 0.3), 0 1px 3px 1px rgba(60, 64, 67, 0.15);\n",
              "    fill: var(--button-hover-fill-color);\n",
              "  }\n",
              "\n",
              "  .colab-df-quickchart-complete:disabled,\n",
              "  .colab-df-quickchart-complete:disabled:hover {\n",
              "    background-color: var(--disabled-bg-color);\n",
              "    fill: var(--disabled-fill-color);\n",
              "    box-shadow: none;\n",
              "  }\n",
              "\n",
              "  .colab-df-spinner {\n",
              "    border: 2px solid var(--fill-color);\n",
              "    border-color: transparent;\n",
              "    border-bottom-color: var(--fill-color);\n",
              "    animation:\n",
              "      spin 1s steps(1) infinite;\n",
              "  }\n",
              "\n",
              "  @keyframes spin {\n",
              "    0% {\n",
              "      border-color: transparent;\n",
              "      border-bottom-color: var(--fill-color);\n",
              "      border-left-color: var(--fill-color);\n",
              "    }\n",
              "    20% {\n",
              "      border-color: transparent;\n",
              "      border-left-color: var(--fill-color);\n",
              "      border-top-color: var(--fill-color);\n",
              "    }\n",
              "    30% {\n",
              "      border-color: transparent;\n",
              "      border-left-color: var(--fill-color);\n",
              "      border-top-color: var(--fill-color);\n",
              "      border-right-color: var(--fill-color);\n",
              "    }\n",
              "    40% {\n",
              "      border-color: transparent;\n",
              "      border-right-color: var(--fill-color);\n",
              "      border-top-color: var(--fill-color);\n",
              "    }\n",
              "    60% {\n",
              "      border-color: transparent;\n",
              "      border-right-color: var(--fill-color);\n",
              "    }\n",
              "    80% {\n",
              "      border-color: transparent;\n",
              "      border-right-color: var(--fill-color);\n",
              "      border-bottom-color: var(--fill-color);\n",
              "    }\n",
              "    90% {\n",
              "      border-color: transparent;\n",
              "      border-bottom-color: var(--fill-color);\n",
              "    }\n",
              "  }\n",
              "</style>\n",
              "\n",
              "  <script>\n",
              "    async function quickchart(key) {\n",
              "      const quickchartButtonEl =\n",
              "        document.querySelector('#' + key + ' button');\n",
              "      quickchartButtonEl.disabled = true;  // To prevent multiple clicks.\n",
              "      quickchartButtonEl.classList.add('colab-df-spinner');\n",
              "      try {\n",
              "        const charts = await google.colab.kernel.invokeFunction(\n",
              "            'suggestCharts', [key], {});\n",
              "      } catch (error) {\n",
              "        console.error('Error during call to suggestCharts:', error);\n",
              "      }\n",
              "      quickchartButtonEl.classList.remove('colab-df-spinner');\n",
              "      quickchartButtonEl.classList.add('colab-df-quickchart-complete');\n",
              "    }\n",
              "    (() => {\n",
              "      let quickchartButtonEl =\n",
              "        document.querySelector('#df-0e768d4a-d32f-4305-a99b-88889751e9fa button');\n",
              "      quickchartButtonEl.style.display =\n",
              "        google.colab.kernel.accessAllowed ? 'block' : 'none';\n",
              "    })();\n",
              "  </script>\n",
              "</div>\n",
              "    </div>\n",
              "  </div>\n"
            ]
          },
          "metadata": {},
          "execution_count": 8
        }
      ],
      "source": [
        "msft_training_complete.tail()"
      ]
    },
    {
      "cell_type": "code",
      "execution_count": null,
      "metadata": {
        "scrolled": true,
        "colab": {
          "base_uri": "https://localhost:8080/",
          "height": 466
        },
        "id": "SvExkaj7Zrhg",
        "outputId": "477b8da9-1bcb-4e6b-fd66-312a33a55998"
      },
      "outputs": [
        {
          "output_type": "execute_result",
          "data": {
            "text/plain": [
              "<Axes: xlabel='Date'>"
            ]
          },
          "metadata": {},
          "execution_count": 9
        },
        {
          "output_type": "display_data",
          "data": {
            "text/plain": [
              "<Figure size 640x480 with 1 Axes>"
            ],
            "image/png": "[encoded data removed]"
          },
          "metadata": {}
        }
      ],
      "source": [
        "msft_training_complete.plot(x='Date',y='Open')"
      ]
    },
    {
      "cell_type": "code",
      "execution_count": null,
      "metadata": {
        "id": "ebupTMJsZrhg"
      },
      "outputs": [],
      "source": [
        "msft_training_processed = msft_training_complete.iloc[:, 1:2].values"
      ]
    },
    {
      "cell_type": "code",
      "execution_count": null,
      "metadata": {
        "colab": {
          "base_uri": "https://localhost:8080/"
        },
        "id": "qq74bKYSZrhg",
        "outputId": "d4447e83-17f2-4c38-bb7e-71ccbbd360a9"
      },
      "outputs": [
        {
          "output_type": "stream",
          "name": "stdout",
          "text": [
            "[[ 54.32    ]\n",
            " [ 54.93    ]\n",
            " [ 54.32    ]\n",
            " ...\n",
            " [325.660004]\n",
            " [321.880005]\n",
            " [328.670013]]\n",
            "length of the dataset:  1928\n"
          ]
        }
      ],
      "source": [
        "print(msft_training_processed)\n",
        "print(\"length of the dataset: \", msft_training_processed.size)"
      ]
    },
    {
      "cell_type": "markdown",
      "metadata": {
        "id": "6ricSEIvZrhg"
      },
      "source": [
        "We want to normilize our data and will use SciKitLearn `MinMaxScaler` from sklearn.preprocessing libary. All values of `Open`(ing) price will be scaled to the interval between 0 and 1."
      ]
    },
    {
      "cell_type": "code",
      "execution_count": null,
      "metadata": {
        "id": "daFb_yCfZrhg"
      },
      "outputs": [],
      "source": [
        "from sklearn.preprocessing import MinMaxScaler\n",
        "scaler = MinMaxScaler(feature_range = (0, 1))\n",
        "\n",
        "msft_training_scaled = scaler.fit_transform(msft_training_processed)\n"
      ]
    },
    {
      "cell_type": "markdown",
      "metadata": {
        "id": "uK_GpEhJZrhg"
      },
      "source": [
        "In a time series problem, we usually predict a value at time T, based on the data from the previous N time steps. In our case, we will predict `Open` price on day T, based on `Open` prices on days T-1,T-2,..., T-N. The number of steps (days), N, could be arbitray. Concretely, we will predict the opening stock price of the data based on the opening stock prices for the past 30 days. One presumes that larger N will give higher prediction. However, larger N will most probably result in longer training and possibly some loss of numerical precision."
      ]
    },
    {
      "cell_type": "code",
      "execution_count": null,
      "metadata": {
        "colab": {
          "base_uri": "https://localhost:8080/"
        },
        "id": "vWENeSSvZrhh",
        "outputId": "5575a8a2-07df-40b9-fd0f-47b5a557a818"
      },
      "outputs": [
        {
          "output_type": "stream",
          "name": "stdout",
          "text": [
            "(1928, 1)\n",
            "[[0.01801514]\n",
            " [0.01996359]\n",
            " [0.01801514]\n",
            " ...\n",
            " [0.88472228]\n",
            " [0.87264831]\n",
            " [0.89433677]]\n"
          ]
        }
      ],
      "source": [
        "print(msft_training_scaled.shape)\n",
        "print(msft_training_scaled)"
      ]
    },
    {
      "cell_type": "markdown",
      "metadata": {
        "id": "zXE8m1MvZrhh"
      },
      "source": [
        "In the script below we create two lists: feature_set and labels. There are 1928 records in the training data. We execute a loop that starts from 61st record and stores 60 records at the beginning to the feature_set list. The 61st record is stored in the labels list. Then we move the cursor by one point and repeate the mapping."
      ]
    },
    {
      "cell_type": "code",
      "execution_count": null,
      "metadata": {
        "id": "YWfRGBIMZrhh"
      },
      "outputs": [],
      "source": [
        "features_set = []\n",
        "labels = []\n",
        "for i in range(60, 1928):\n",
        "    features_set.append(msft_training_scaled[i-60:i,0])\n",
        "    labels.append(msft_training_scaled[i,0])"
      ]
    },
    {
      "cell_type": "code",
      "execution_count": null,
      "metadata": {
        "colab": {
          "base_uri": "https://localhost:8080/"
        },
        "id": "4fSdLvZJZrhh",
        "outputId": "2fd83099-4007-41e7-bb29-6c7b11ddb890"
      },
      "outputs": [
        {
          "output_type": "stream",
          "name": "stdout",
          "text": [
            "1868\n",
            "1868\n",
            "60\n",
            "0.020027473089085507\n"
          ]
        }
      ],
      "source": [
        "print(len(features_set))\n",
        "print(len(labels))\n",
        "print(len(features_set[0]))\n",
        "#print(features_set)\n",
        "print(labels[0])"
      ]
    },
    {
      "cell_type": "markdown",
      "metadata": {
        "id": "T0A6Hyf_Zrhh"
      },
      "source": [
        "We need to convert both the `feature_set` and the `labels list` to numpy arrays before we could use them for training. Execute the following code:"
      ]
    },
    {
      "cell_type": "code",
      "execution_count": null,
      "metadata": {
        "id": "eadEkrf0Zrhh"
      },
      "outputs": [],
      "source": [
        "features_set, labels = np.array(features_set), np.array(labels)"
      ]
    },
    {
      "cell_type": "markdown",
      "metadata": {
        "id": "9oijK4gSZrhi"
      },
      "source": [
        "What are the dimensions of the feature set?"
      ]
    },
    {
      "cell_type": "code",
      "execution_count": null,
      "metadata": {
        "colab": {
          "base_uri": "https://localhost:8080/"
        },
        "id": "wogtxcfuZrhi",
        "outputId": "6ec162d3-7a1b-47a1-fb3c-81ff09f349dd"
      },
      "outputs": [
        {
          "output_type": "stream",
          "name": "stdout",
          "text": [
            "(1868, 60)\n",
            "1868 60\n"
          ]
        }
      ],
      "source": [
        "print(features_set.shape)\n",
        "print(features_set.shape[0], features_set.shape[1])"
      ]
    },
    {
      "cell_type": "code",
      "execution_count": null,
      "metadata": {
        "colab": {
          "base_uri": "https://localhost:8080/"
        },
        "id": "WIXAKZXlZrhi",
        "outputId": "11f52278-ad03-482f-9774-b28696ed81a0"
      },
      "outputs": [
        {
          "output_type": "stream",
          "name": "stdout",
          "text": [
            "(1868,)\n",
            "[0.02002747 0.02034688 0.02156067 ... 0.88472228 0.87264831 0.89433677]\n"
          ]
        }
      ],
      "source": [
        "print(labels.shape)\n",
        "print(labels)"
      ]
    },
    {
      "cell_type": "markdown",
      "metadata": {
        "id": "dxVLypoMZrhi"
      },
      "source": [
        "## Convert Training Data to Right Shape\n",
        "In order to train LSTM, we need to convert our data into the shape accepted by the LSTM.\n",
        "LSTM expects a three-dimensional format.\n",
        "The first dimension is the number of records or rows in the dataset which is 1868 in our case.\n",
        "The second dimension is the number of time steps which is 60.\n",
        "The last dimension is the number of indicators. Since we are only using one feature, i.e Open, the number of indicators will be 1. Execute the following:"
      ]
    },
    {
      "cell_type": "code",
      "execution_count": null,
      "metadata": {
        "id": "RfvLkOtNZrhi"
      },
      "outputs": [],
      "source": [
        "features_set = np.reshape(features_set, (features_set.shape[0], features_set.shape[1], 1))"
      ]
    },
    {
      "cell_type": "code",
      "execution_count": null,
      "metadata": {
        "colab": {
          "base_uri": "https://localhost:8080/"
        },
        "id": "aTDiefNDZrhi",
        "outputId": "50bf6a50-fef9-4d39-876b-a2a1220de636"
      },
      "outputs": [
        {
          "output_type": "stream",
          "name": "stdout",
          "text": [
            "(1868, 60, 1)\n"
          ]
        }
      ],
      "source": [
        "print(features_set.shape)"
      ]
    },
    {
      "cell_type": "markdown",
      "metadata": {
        "id": "hnPM_H4PZrhi"
      },
      "source": [
        "## Traning the LSTM\n",
        "We will use Keras API.  \n",
        "The LSTM model we will create is sequential model with multiple layers. We will use four LSTM layers followed by a dense layer that predicts the future stock price.\n",
        "Let's first import the libraries that we will need in order to create our model:"
      ]
    },
    {
      "cell_type": "code",
      "execution_count": null,
      "metadata": {
        "id": "JbvMzAEPZrhi"
      },
      "outputs": [],
      "source": [
        "import tensorflow as tf\n",
        "from tensorflow import keras\n",
        "from tensorflow.keras.models import Sequential\n",
        "from tensorflow.keras.layers import Dense\n",
        "from tensorflow.keras.layers import LSTM\n",
        "from tensorflow.keras.layers import Dropout"
      ]
    },
    {
      "cell_type": "markdown",
      "metadata": {
        "id": "YjSAPyqJZrhj"
      },
      "source": [
        "## Building the Model\n",
        "\n",
        "As a first step, we need to instantiate the Sequential class. This is our model class. We will add LSTM, Dropout and Dense layers to this model. The first parameter to the LSTM layer is the number of neurons or nodes that we want in the layer. The second parameter is `return_sequences`, which is set to `True` since we will add more layers to the model. The first parameter to the `input_shape` is the number of time steps while the last parameter is the number of indicators.\n",
        "\n",
        "`return_sequences`=`True`: `Boolean`. Whether to return the last output in the output sequence, or the full sequence. That return sequences return the hidden state output for each input time step. When stacking LSTM layers you must set `return_sequnce` to `True`\n",
        "We are leaving\n",
        "`unroll=False`: `Boolean` (default `False`). If `True`, the network will be unrolled, else a symbolic loop will be used. Unrolling can speed-up a RNN, although it tends to be more memory-intensive. Unrolling is only suitable for short sequences."
      ]
    },
    {
      "cell_type": "code",
      "execution_count": null,
      "metadata": {
        "id": "3sPN7AZ9Zrhj"
      },
      "outputs": [],
      "source": [
        "model = Sequential()\n",
        "model.add(LSTM(units=50, return_sequences=True, input_shape=(features_set.shape[1], 1),unroll=False))"
      ]
    },
    {
      "cell_type": "markdown",
      "metadata": {
        "id": "o0dZmVhCZrhj"
      },
      "source": [
        "To avoid over-fitting, we will add Dropout layers after every LSTM layer."
      ]
    },
    {
      "cell_type": "code",
      "execution_count": null,
      "metadata": {
        "id": "Hc_K_LXPZrhk"
      },
      "outputs": [],
      "source": [
        "model.add(Dropout(0.2))"
      ]
    },
    {
      "cell_type": "code",
      "execution_count": null,
      "metadata": {
        "id": "U7Spg475Zrhk"
      },
      "outputs": [],
      "source": [
        "model.add(LSTM(units=50, return_sequences=True))\n",
        "model.add(Dropout(0.2))\n",
        "\n",
        "model.add(LSTM(units=50, return_sequences=True))\n",
        "model.add(Dropout(0.2))\n",
        "\n",
        "model.add(LSTM(units=50))\n",
        "model.add(Dropout(0.2))\n"
      ]
    },
    {
      "cell_type": "markdown",
      "metadata": {
        "id": "D2kvGZcEZrhk"
      },
      "source": [
        "The number of neurons, units = 50, in every LSTM subcell is somewhat arbitrary. You should play with that parameter and find an optimal value"
      ]
    },
    {
      "cell_type": "markdown",
      "metadata": {
        "id": "03t_7R0NZrhk"
      },
      "source": [
        "## Creating a Dense Layer\n",
        "\n",
        "To make our model more robust, we add a Dense layer at the end of the model. The number of neurons in the Dense layer will be set to 1 since we want to predict a single value in the output.\n"
      ]
    },
    {
      "cell_type": "code",
      "execution_count": null,
      "metadata": {
        "id": "653IwQTlZrhl"
      },
      "outputs": [],
      "source": [
        "model.add(Dense(units = 1))"
      ]
    },
    {
      "cell_type": "code",
      "execution_count": null,
      "metadata": {
        "colab": {
          "base_uri": "https://localhost:8080/"
        },
        "id": "Ys5jnR7nZrhl",
        "outputId": "c27b762e-a190-4f10-d3de-0931074f18ab"
      },
      "outputs": [
        {
          "output_type": "stream",
          "name": "stdout",
          "text": [
            "Model: \"sequential\"\n",
            "_________________________________________________________________\n",
            " Layer (type)                Output Shape              Param #   \n",
            "=================================================================\n",
            " lstm (LSTM)                 (None, 60, 50)            10400     \n",
            "                                                                 \n",
            " dropout (Dropout)           (None, 60, 50)            0         \n",
            "                                                                 \n",
            " lstm_1 (LSTM)               (None, 60, 50)            20200     \n",
            "                                                                 \n",
            " dropout_1 (Dropout)         (None, 60, 50)            0         \n",
            "                                                                 \n",
            " lstm_2 (LSTM)               (None, 60, 50)            20200     \n",
            "                                                                 \n",
            " dropout_2 (Dropout)         (None, 60, 50)            0         \n",
            "                                                                 \n",
            " lstm_3 (LSTM)               (None, 50)                20200     \n",
            "                                                                 \n",
            " dropout_3 (Dropout)         (None, 50)                0         \n",
            "                                                                 \n",
            " dense (Dense)               (None, 1)                 51        \n",
            "                                                                 \n",
            "=================================================================\n",
            "Total params: 71051 (277.54 KB)\n",
            "Trainable params: 71051 (277.54 KB)\n",
            "Non-trainable params: 0 (0.00 Byte)\n",
            "_________________________________________________________________\n"
          ]
        }
      ],
      "source": [
        "model.summary()"
      ]
    },
    {
      "cell_type": "markdown",
      "metadata": {
        "id": "P50uDv2zZrhl"
      },
      "source": [
        "## Model Compilation\n",
        "Finally, we need to compile our LSTM model before we can train it on the training data."
      ]
    },
    {
      "cell_type": "code",
      "execution_count": null,
      "metadata": {
        "id": "C7wS62CbZrhl"
      },
      "outputs": [],
      "source": [
        "model.compile(optimizer = 'adam', loss = 'mean_squared_error')"
      ]
    },
    {
      "cell_type": "markdown",
      "metadata": {
        "id": "nnCsza6VZrhm"
      },
      "source": [
        "## Model Training\n",
        "Now is the time to train the model that we defined in the previous few steps. To do so, we call the `fit` method on the model and pass it our training features and labels as shown below:\n"
      ]
    },
    {
      "cell_type": "code",
      "execution_count": null,
      "metadata": {
        "colab": {
          "base_uri": "https://localhost:8080/"
        },
        "id": "ITvSHiVpZrhm",
        "outputId": "4a2ff918-8ca9-4779-c458-16df32b7e283"
      },
      "outputs": [
        {
          "output_type": "stream",
          "name": "stdout",
          "text": [
            "Epoch 1/100\n",
            "59/59 [==============================] - 18s 172ms/step - loss: 0.0223\n",
            "Epoch 2/100\n",
            "59/59 [==============================] - 8s 140ms/step - loss: 0.0039\n",
            "Epoch 3/100\n",
            "59/59 [==============================] - 6s 105ms/step - loss: 0.0039\n",
            "Epoch 4/100\n",
            "59/59 [==============================] - 7s 124ms/step - loss: 0.0034\n",
            "Epoch 5/100\n",
            "59/59 [==============================] - 6s 106ms/step - loss: 0.0036\n",
            "Epoch 6/100\n",
            "59/59 [==============================] - 7s 125ms/step - loss: 0.0028\n",
            "Epoch 7/100\n",
            "59/59 [==============================] - 6s 106ms/step - loss: 0.0035\n",
            "Epoch 8/100\n",
            "59/59 [==============================] - 7s 124ms/step - loss: 0.0027\n",
            "Epoch 9/100\n",
            "59/59 [==============================] - 6s 106ms/step - loss: 0.0028\n",
            "Epoch 10/100\n",
            "59/59 [==============================] - 7s 125ms/step - loss: 0.0026\n",
            "Epoch 11/100\n",
            "59/59 [==============================] - 7s 116ms/step - loss: 0.0025\n",
            "Epoch 12/100\n",
            "59/59 [==============================] - 7s 115ms/step - loss: 0.0025\n",
            "Epoch 13/100\n",
            "59/59 [==============================] - 7s 126ms/step - loss: 0.0023\n",
            "Epoch 14/100\n",
            "59/59 [==============================] - 6s 106ms/step - loss: 0.0025\n",
            "Epoch 15/100\n",
            "59/59 [==============================] - 7s 125ms/step - loss: 0.0021\n",
            "Epoch 16/100\n",
            "59/59 [==============================] - 6s 106ms/step - loss: 0.0022\n",
            "Epoch 17/100\n",
            "59/59 [==============================] - 7s 126ms/step - loss: 0.0022\n",
            "Epoch 18/100\n",
            "59/59 [==============================] - 6s 107ms/step - loss: 0.0021\n",
            "Epoch 19/100\n",
            "59/59 [==============================] - 7s 126ms/step - loss: 0.0019\n",
            "Epoch 20/100\n",
            "59/59 [==============================] - 6s 106ms/step - loss: 0.0019\n",
            "Epoch 21/100\n",
            "59/59 [==============================] - 7s 125ms/step - loss: 0.0024\n",
            "Epoch 22/100\n",
            "59/59 [==============================] - 8s 127ms/step - loss: 0.0021\n",
            "Epoch 23/100\n",
            "59/59 [==============================] - 7s 123ms/step - loss: 0.0017\n",
            "Epoch 24/100\n",
            "59/59 [==============================] - 7s 118ms/step - loss: 0.0020\n",
            "Epoch 25/100\n",
            "59/59 [==============================] - 7s 111ms/step - loss: 0.0020\n",
            "Epoch 26/100\n",
            "59/59 [==============================] - 7s 125ms/step - loss: 0.0017\n",
            "Epoch 27/100\n",
            "59/59 [==============================] - 6s 105ms/step - loss: 0.0017\n",
            "Epoch 28/100\n",
            "59/59 [==============================] - 7s 125ms/step - loss: 0.0017\n",
            "Epoch 29/100\n",
            "59/59 [==============================] - 6s 107ms/step - loss: 0.0016\n",
            "Epoch 30/100\n",
            "59/59 [==============================] - 7s 126ms/step - loss: 0.0018\n",
            "Epoch 31/100\n",
            "59/59 [==============================] - 6s 107ms/step - loss: 0.0016\n",
            "Epoch 32/100\n",
            "59/59 [==============================] - 7s 127ms/step - loss: 0.0016\n",
            "Epoch 33/100\n",
            "59/59 [==============================] - 6s 107ms/step - loss: 0.0016\n",
            "Epoch 34/100\n",
            "59/59 [==============================] - 7s 126ms/step - loss: 0.0016\n",
            "Epoch 35/100\n",
            "59/59 [==============================] - 7s 113ms/step - loss: 0.0014\n",
            "Epoch 36/100\n",
            "59/59 [==============================] - 7s 117ms/step - loss: 0.0015\n",
            "Epoch 37/100\n",
            "59/59 [==============================] - 7s 125ms/step - loss: 0.0016\n",
            "Epoch 38/100\n",
            "59/59 [==============================] - 6s 108ms/step - loss: 0.0014\n",
            "Epoch 39/100\n",
            "59/59 [==============================] - 7s 126ms/step - loss: 0.0013\n",
            "Epoch 40/100\n",
            "59/59 [==============================] - 6s 106ms/step - loss: 0.0014\n",
            "Epoch 41/100\n",
            "59/59 [==============================] - 7s 125ms/step - loss: 0.0014\n",
            "Epoch 42/100\n",
            "59/59 [==============================] - 6s 107ms/step - loss: 0.0014\n",
            "Epoch 43/100\n",
            "59/59 [==============================] - 7s 125ms/step - loss: 0.0012\n",
            "Epoch 44/100\n",
            "59/59 [==============================] - 6s 106ms/step - loss: 0.0014\n",
            "Epoch 45/100\n",
            "59/59 [==============================] - 7s 126ms/step - loss: 0.0013\n",
            "Epoch 46/100\n",
            "59/59 [==============================] - 6s 109ms/step - loss: 0.0014\n",
            "Epoch 47/100\n",
            "59/59 [==============================] - 7s 124ms/step - loss: 0.0014\n",
            "Epoch 48/100\n",
            "59/59 [==============================] - 7s 121ms/step - loss: 0.0012\n",
            "Epoch 49/100\n",
            "59/59 [==============================] - 7s 111ms/step - loss: 0.0013\n",
            "Epoch 50/100\n",
            "59/59 [==============================] - 7s 127ms/step - loss: 0.0012\n",
            "Epoch 51/100\n",
            "59/59 [==============================] - 6s 107ms/step - loss: 0.0013\n",
            "Epoch 52/100\n",
            "59/59 [==============================] - 7s 125ms/step - loss: 0.0015\n",
            "Epoch 53/100\n",
            "59/59 [==============================] - 6s 107ms/step - loss: 0.0012\n",
            "Epoch 54/100\n",
            "59/59 [==============================] - 7s 126ms/step - loss: 0.0013\n",
            "Epoch 55/100\n",
            "59/59 [==============================] - 6s 106ms/step - loss: 0.0013\n",
            "Epoch 56/100\n",
            "59/59 [==============================] - 7s 125ms/step - loss: 0.0013\n",
            "Epoch 57/100\n",
            "59/59 [==============================] - 8s 131ms/step - loss: 0.0012\n",
            "Epoch 58/100\n",
            "59/59 [==============================] - 7s 119ms/step - loss: 0.0012\n",
            "Epoch 59/100\n",
            "59/59 [==============================] - 7s 122ms/step - loss: 0.0013\n",
            "Epoch 60/100\n",
            "59/59 [==============================] - 7s 109ms/step - loss: 0.0011\n",
            "Epoch 61/100\n",
            "59/59 [==============================] - 8s 140ms/step - loss: 0.0011\n",
            "Epoch 62/100\n",
            "59/59 [==============================] - 13s 214ms/step - loss: 0.0012\n",
            "Epoch 63/100\n",
            "59/59 [==============================] - 7s 108ms/step - loss: 0.0012\n",
            "Epoch 64/100\n",
            "59/59 [==============================] - 7s 125ms/step - loss: 0.0011\n",
            "Epoch 65/100\n",
            "59/59 [==============================] - 6s 107ms/step - loss: 0.0011\n",
            "Epoch 66/100\n",
            "59/59 [==============================] - 7s 126ms/step - loss: 0.0011\n",
            "Epoch 67/100\n",
            "59/59 [==============================] - 6s 107ms/step - loss: 0.0012\n",
            "Epoch 68/100\n",
            "59/59 [==============================] - 7s 126ms/step - loss: 0.0011\n",
            "Epoch 69/100\n",
            "59/59 [==============================] - 7s 113ms/step - loss: 0.0012\n",
            "Epoch 70/100\n",
            "59/59 [==============================] - 7s 119ms/step - loss: 0.0012\n",
            "Epoch 71/100\n",
            "59/59 [==============================] - 7s 126ms/step - loss: 0.0012\n",
            "Epoch 72/100\n",
            "59/59 [==============================] - 6s 107ms/step - loss: 0.0012\n",
            "Epoch 73/100\n",
            "59/59 [==============================] - 7s 125ms/step - loss: 9.7805e-04\n",
            "Epoch 74/100\n",
            "59/59 [==============================] - 6s 107ms/step - loss: 0.0011\n",
            "Epoch 75/100\n",
            "59/59 [==============================] - 7s 126ms/step - loss: 0.0011\n",
            "Epoch 76/100\n",
            "59/59 [==============================] - 6s 106ms/step - loss: 0.0010\n",
            "Epoch 77/100\n",
            "59/59 [==============================] - 8s 133ms/step - loss: 0.0010\n",
            "Epoch 78/100\n",
            "59/59 [==============================] - 6s 106ms/step - loss: 0.0011\n",
            "Epoch 79/100\n",
            "59/59 [==============================] - 7s 125ms/step - loss: 9.9135e-04\n",
            "Epoch 80/100\n",
            "59/59 [==============================] - 6s 110ms/step - loss: 0.0011\n",
            "Epoch 81/100\n",
            "59/59 [==============================] - 7s 120ms/step - loss: 0.0010\n",
            "Epoch 82/100\n",
            "59/59 [==============================] - 7s 120ms/step - loss: 9.6861e-04\n",
            "Epoch 83/100\n",
            "59/59 [==============================] - 6s 109ms/step - loss: 0.0011\n",
            "Epoch 84/100\n",
            "59/59 [==============================] - 7s 125ms/step - loss: 0.0010\n",
            "Epoch 85/100\n",
            "59/59 [==============================] - 6s 106ms/step - loss: 0.0012\n",
            "Epoch 86/100\n",
            "59/59 [==============================] - 7s 125ms/step - loss: 0.0010\n",
            "Epoch 87/100\n",
            "59/59 [==============================] - 6s 107ms/step - loss: 0.0010\n",
            "Epoch 88/100\n",
            "59/59 [==============================] - 7s 126ms/step - loss: 0.0010\n",
            "Epoch 89/100\n",
            "59/59 [==============================] - 6s 107ms/step - loss: 9.0607e-04\n",
            "Epoch 90/100\n",
            "59/59 [==============================] - 7s 126ms/step - loss: 0.0011\n",
            "Epoch 91/100\n",
            "59/59 [==============================] - 8s 133ms/step - loss: 9.8359e-04\n",
            "Epoch 92/100\n",
            "59/59 [==============================] - 7s 123ms/step - loss: 9.1276e-04\n",
            "Epoch 93/100\n",
            "59/59 [==============================] - 8s 132ms/step - loss: 9.9031e-04\n",
            "Epoch 94/100\n",
            "59/59 [==============================] - 6s 106ms/step - loss: 9.5791e-04\n",
            "Epoch 95/100\n",
            "59/59 [==============================] - 7s 125ms/step - loss: 8.9256e-04\n",
            "Epoch 96/100\n",
            "59/59 [==============================] - 6s 107ms/step - loss: 9.5912e-04\n",
            "Epoch 97/100\n",
            "59/59 [==============================] - 7s 125ms/step - loss: 0.0011\n",
            "Epoch 98/100\n",
            "59/59 [==============================] - 6s 107ms/step - loss: 8.5974e-04\n",
            "Epoch 99/100\n",
            "59/59 [==============================] - 8s 128ms/step - loss: 8.7524e-04\n",
            "Epoch 100/100\n",
            "59/59 [==============================] - 6s 106ms/step - loss: 9.3887e-04\n"
          ]
        }
      ],
      "source": [
        "history = model.fit(features_set, labels, epochs = 100, batch_size = 32)"
      ]
    },
    {
      "cell_type": "code",
      "execution_count": null,
      "metadata": {
        "colab": {
          "base_uri": "https://localhost:8080/"
        },
        "id": "CJOmy2wLZrhm",
        "outputId": "9aa467b1-79da-4c94-96fd-ce91fd9355e8"
      },
      "outputs": [
        {
          "output_type": "stream",
          "name": "stderr",
          "text": [
            "/usr/local/lib/python3.10/dist-packages/keras/src/engine/training.py:3079: UserWarning: You are saving your model as an HDF5 file via `model.save()`. This file format is considered legacy. We recommend using instead the native Keras format, e.g. `model.save('my_model.keras')`.\n",
            "  saving_api.save_model(\n"
          ]
        },
        {
          "output_type": "execute_result",
          "data": {
            "text/plain": [
              "dict_keys(['loss'])"
            ]
          },
          "metadata": {},
          "execution_count": 29
        }
      ],
      "source": [
        "from tensorflow.keras.models import load_model\n",
        "model.save('msft.h5')\n",
        "#model = load_model('apple.h5')\n",
        "history_dict = history.history\n",
        "history_dict.keys()"
      ]
    },
    {
      "cell_type": "markdown",
      "metadata": {
        "id": "e7xBg62HZrhm"
      },
      "source": [
        "From the above, we see that our model history contains information only on the training loss. Had we had validation data passed to the training process we would have had validation loss and perhaps accuracy available as well."
      ]
    },
    {
      "cell_type": "code",
      "execution_count": null,
      "metadata": {
        "colab": {
          "base_uri": "https://localhost:8080/",
          "height": 472
        },
        "id": "-81SrEwhZrhm",
        "outputId": "c3c8cb32-5af4-4226-a22e-58c029d907af"
      },
      "outputs": [
        {
          "output_type": "display_data",
          "data": {
            "text/plain": [
              "<Figure size 640x480 with 1 Axes>"
            ],
            "image/png": "[encoded data removed]"
          },
          "metadata": {}
        }
      ],
      "source": [
        "import matplotlib.pyplot as plt\n",
        "\n",
        "loss = history.history['loss']\n",
        "\n",
        "epochs = range(1, len(loss) + 1)\n",
        "\n",
        "# \"bo\" is for \"blue dot\"\n",
        "plt.plot(epochs, loss, 'bo', label='Training loss')\n",
        "\n",
        "plt.title('Training loss')\n",
        "plt.xlabel('Epochs')\n",
        "plt.ylabel('Loss')\n",
        "plt.legend()\n",
        "\n",
        "plt.show()\n"
      ]
    },
    {
      "cell_type": "markdown",
      "metadata": {
        "id": "0FgdOVPHZrhn"
      },
      "source": [
        "## Testing our LSTM\n",
        "We have successfully trained our LSTM, now we will test the performance of our network on the test set containing the opening stock prices for the month of September and a part of October 2023.\n",
        "\n",
        "As we did with the training data, we need to convert our test data to the right format. We first import our test data. The test data contain only prices for 34 days and has no overlap with the training data.\n",
        "\n",
        "Execute the following:\n"
      ]
    },
    {
      "cell_type": "code",
      "execution_count": null,
      "metadata": {
        "colab": {
          "base_uri": "https://localhost:8080/"
        },
        "id": "eAfjVPsuZrhn",
        "outputId": "98cd972a-cf76-492b-81f8-06c4a511f9ae"
      },
      "outputs": [
        {
          "output_type": "stream",
          "name": "stdout",
          "text": [
            "Number of data points in test data:  34\n"
          ]
        }
      ],
      "source": [
        "msft_testing_complete = pd.read_csv(r'MSFT_test.csv')\n",
        "msft_testing_processed = msft_testing_complete.iloc[0:34, 1:2].values\n",
        "msft_testing_processed\n",
        "print(\"Number of data points in test data: \", msft_testing_processed.size)"
      ]
    },
    {
      "cell_type": "markdown",
      "metadata": {
        "id": "VsF-0J4-Zrhn"
      },
      "source": [
        "## Converting Test Data to Right Format\n",
        "\n",
        "For each day in the test set, we want our feature set to contain the opening stock prices for the previous 60 days, what is almost 3 months. To do so, we need to concatenate our training data and test data before preprocessing. Execute the following:\n"
      ]
    },
    {
      "cell_type": "code",
      "execution_count": null,
      "metadata": {
        "id": "kL4bT-KVZrhn"
      },
      "outputs": [],
      "source": [
        "msft_total = pd.concat((msft_training_complete['Open'], msft_testing_complete['Open']), axis=0)"
      ]
    },
    {
      "cell_type": "markdown",
      "metadata": {
        "id": "DSk8MimZZrhn"
      },
      "source": [
        "Now let's prepare our test inputs. The input for each day should contain the opening stock prices for the previous 60 days. That means we need opening stock prices for the 34 test days and stock prices from the last 60 days from the training set. Execute the following code to fetch those 94 values."
      ]
    },
    {
      "cell_type": "code",
      "execution_count": null,
      "metadata": {
        "id": "XH9-PNm5Zrhn"
      },
      "outputs": [],
      "source": [
        "test_inputs = msft_total[len(msft_total) - len(msft_testing_complete) - 60:].values"
      ]
    },
    {
      "cell_type": "code",
      "execution_count": null,
      "metadata": {
        "colab": {
          "base_uri": "https://localhost:8080/"
        },
        "id": "rh_u1AwFZrhn",
        "outputId": "6937d4ac-7450-45f4-8fb0-2224d478a397"
      },
      "outputs": [
        {
          "output_type": "stream",
          "name": "stdout",
          "text": [
            "(100,)\n",
            "100\n",
            "[335.329987 331.649994 323.940002 324.98999  328.579987 334.470001\n",
            " 334.339996 337.480011 351.320007 339.309998 336.369995 334.119995\n",
            " 334.359985 333.720001 331.859985 334.660004 334.709991 337.75\n",
            " 339.190002 335.089996 337.299988 339.320007 334.600006 331.059998\n",
            " 336.600006 339.559998 347.589996 345.679993 345.829987 361.75\n",
            " 353.570007 349.149994 345.850006 347.109985 341.440002 340.480011\n",
            " 333.670013 336.920013 335.190002 333.630005 326.       331.880005\n",
            " 328.369995 326.959991 326.470001 326.019989 320.26001  321.390015\n",
            " 323.       320.799988 320.540009 314.48999  317.929993 325.5\n",
            " 323.820007 332.850006 321.470001 325.660004 321.880005 328.670013\n",
            " 329.       333.380005 331.290009 330.089996 337.23999  335.820007\n",
            " 331.309998 339.149994 336.920013 327.799988 326.170013 329.51001\n",
            " 319.26001  321.320007 316.589996 315.130005 312.299988 310.98999\n",
            " 317.75     316.279999 320.829987 314.029999 319.089996 316.549988\n",
            " 324.75     330.959991 331.209991 330.570007 332.380005 331.049988\n",
            " 329.589996 332.48999  332.149994 331.720001 325.470001 331.299988\n",
            " 345.019989 340.540009 330.429993 333.410004]\n"
          ]
        }
      ],
      "source": [
        "print(test_inputs.shape)\n",
        "print(len(test_inputs))\n",
        "print(test_inputs)"
      ]
    },
    {
      "cell_type": "markdown",
      "metadata": {
        "id": "2SrxmpgkZrhn"
      },
      "source": [
        "As we did for the training set, we need to scale our test data. We will use already defined `scalar` object. Execute the following:"
      ]
    },
    {
      "cell_type": "code",
      "execution_count": null,
      "metadata": {
        "colab": {
          "base_uri": "https://localhost:8080/"
        },
        "id": "u1aY_fMtZrhn",
        "outputId": "815790f5-d892-4666-a8f7-3d78f90f2628"
      },
      "outputs": [
        {
          "output_type": "stream",
          "name": "stdout",
          "text": [
            "(100, 1)\n",
            "[[0.91560989]\n",
            " [0.90385535]\n",
            " [0.87922829]\n",
            " [0.88258214]\n",
            " [0.89404921]\n",
            " [0.91286294]\n",
            " [0.91244768]\n",
            " [0.92247744]\n",
            " [0.96668479]\n",
            " [0.92832273]\n",
            " [0.91893185]\n",
            " [0.91174496]\n",
            " [0.91251153]\n",
            " [0.91046731]\n",
            " [0.9045261 ]\n",
            " [0.91346984]\n",
            " [0.91362951]\n",
            " [0.92333983]\n",
            " [0.92793944]\n",
            " [0.91484331]\n",
            " [0.92190241]\n",
            " [0.9283547 ]\n",
            " [0.9132782 ]\n",
            " [0.9019708 ]\n",
            " [0.91966655]\n",
            " [0.92912128]\n",
            " [0.95477049]\n",
            " [0.9486696 ]\n",
            " [0.94914871]\n",
            " [1.        ]\n",
            " [0.97387168]\n",
            " [0.95975339]\n",
            " [0.94921266]\n",
            " [0.95323725]\n",
            " [0.93512634]\n",
            " [0.93205996]\n",
            " [0.91030764]\n",
            " [0.92068871]\n",
            " [0.91516275]\n",
            " [0.91017985]\n",
            " [0.88580829]\n",
            " [0.90459004]\n",
            " [0.89337846]\n",
            " [0.88887466]\n",
            " [0.88730955]\n",
            " [0.88587213]\n",
            " [0.86747376]\n",
            " [0.87108319]\n",
            " [0.87622576]\n",
            " [0.86919854]\n",
            " [0.86836813]\n",
            " [0.84904331]\n",
            " [0.86003128]\n",
            " [0.8842112 ]\n",
            " [0.87884501]\n",
            " [0.9076884 ]\n",
            " [0.87133868]\n",
            " [0.88472228]\n",
            " [0.87264831]\n",
            " [0.89433677]\n",
            " [0.89539081]\n",
            " [0.9093813 ]\n",
            " [0.90270549]\n",
            " [0.89887244]\n",
            " [0.92171077]\n",
            " [0.9171751 ]\n",
            " [0.90276934]\n",
            " [0.92781165]\n",
            " [0.92068871]\n",
            " [0.89155776]\n",
            " [0.88635134]\n",
            " [0.89701987]\n",
            " [0.86427959]\n",
            " [0.87085957]\n",
            " [0.8557511 ]\n",
            " [0.85108763]\n",
            " [0.84204807]\n",
            " [0.8378637 ]\n",
            " [0.85945635]\n",
            " [0.85476091]\n",
            " [0.86929437]\n",
            " [0.84757402]\n",
            " [0.86373653]\n",
            " [0.8556233 ]\n",
            " [0.88181557]\n",
            " [0.90165136]\n",
            " [0.9024499 ]\n",
            " [0.90040568]\n",
            " [0.90618713]\n",
            " [0.90193883]\n",
            " [0.89727536]\n",
            " [0.90653844]\n",
            " [0.90545244]\n",
            " [0.90407896]\n",
            " [0.88411538]\n",
            " [0.90273737]\n",
            " [0.94656144]\n",
            " [0.9322516 ]\n",
            " [0.89995845]\n",
            " [0.90947713]]\n"
          ]
        }
      ],
      "source": [
        "test_inputs = test_inputs.reshape(-1,1)\n",
        "print(test_inputs.shape)\n",
        "test_inputs = scaler.transform(test_inputs)\n",
        "print(test_inputs)"
      ]
    },
    {
      "cell_type": "markdown",
      "metadata": {
        "id": "L9UP9A1AZrho"
      },
      "source": [
        "We scaled our data, now let's prepare our final test input set that will contain previous 60 stock prices from the training_set. Execute the following:"
      ]
    },
    {
      "cell_type": "code",
      "execution_count": null,
      "metadata": {
        "id": "c6z3SyJiZrho"
      },
      "outputs": [],
      "source": [
        "test_features = []\n",
        "for i in range(60, 94):\n",
        "    test_features.append(test_inputs[i-60:i, 0])\n"
      ]
    },
    {
      "cell_type": "markdown",
      "metadata": {
        "id": "4x7JpXt5Zrho"
      },
      "source": [
        "Finally, we need to convert our data into the three-dimensional format which can be used as input to the LSTM. Execute the following code"
      ]
    },
    {
      "cell_type": "code",
      "execution_count": null,
      "metadata": {
        "colab": {
          "base_uri": "https://localhost:8080/"
        },
        "id": "rLgNS_g6Zrho",
        "outputId": "79e51206-5325-438e-b635-655646f71cfa"
      },
      "outputs": [
        {
          "output_type": "stream",
          "name": "stdout",
          "text": [
            "(34, 60, 1)\n"
          ]
        }
      ],
      "source": [
        "test_features = np.array(test_features)\n",
        "test_features = np.reshape(test_features, (test_features.shape[0], test_features.shape[1], 1))\n",
        "print(test_features.shape)"
      ]
    },
    {
      "cell_type": "markdown",
      "metadata": {
        "id": "Zwe1mRDUZrho"
      },
      "source": [
        "## Making Predictions\n",
        "We preprocessed our test data and now we can use it to make predictions. To do so, we simply need to call the `predict()` method on the model that we trained. Execute the following\n"
      ]
    },
    {
      "cell_type": "code",
      "execution_count": null,
      "metadata": {
        "colab": {
          "base_uri": "https://localhost:8080/"
        },
        "id": "GTQTfcJfZrho",
        "outputId": "4a159d7e-435b-4e95-e6f2-4923f68be022"
      },
      "outputs": [
        {
          "output_type": "stream",
          "name": "stdout",
          "text": [
            "2/2 [==============================] - 0s 37ms/step\n"
          ]
        }
      ],
      "source": [
        "predictions = model.predict(test_features)"
      ]
    },
    {
      "cell_type": "markdown",
      "metadata": {
        "id": "LQRwnve6Zrho"
      },
      "source": [
        "Since we scaled our data, the predictions made by the LSTM are also scaled. We need to reverse the scaled prediction back to their actual values. To do so, we use the `ìnverse_transform` method of the `scaler` object we created during training. This is accomplished with the following:"
      ]
    },
    {
      "cell_type": "code",
      "execution_count": null,
      "metadata": {
        "id": "6-aFiSMDZrho"
      },
      "outputs": [],
      "source": [
        "predictions = scaler.inverse_transform(predictions)"
      ]
    },
    {
      "cell_type": "markdown",
      "metadata": {
        "id": "34yduSmPZrhp"
      },
      "source": [
        "Finally, let's see how well did our algorithm predicted the future stock prices. On the same diagram we will present original Open prices in the test data (blue) and predictions in red."
      ]
    },
    {
      "cell_type": "code",
      "execution_count": null,
      "metadata": {
        "colab": {
          "base_uri": "https://localhost:8080/",
          "height": 564
        },
        "id": "UmR3TjmXZrhp",
        "outputId": "4d8161bb-be9b-486d-db31-087b491efd2c"
      },
      "outputs": [
        {
          "output_type": "display_data",
          "data": {
            "text/plain": [
              "<Figure size 1000x600 with 1 Axes>"
            ],
            "image/png": "[encoded data removed]"
          },
          "metadata": {}
        }
      ],
      "source": [
        "plt.figure(figsize=(10,6))\n",
        "plt.plot(msft_testing_processed, color='blue', label='Actual MSFT Stock Price')\n",
        "plt.plot(predictions , color='red', label='Predicted MSFT Stock Price')\n",
        "plt.title('MSFT Stock Price Prediction')\n",
        "plt.xlabel('Date')\n",
        "plt.ylabel('MSFT Stock Price')\n",
        "plt.legend()\n",
        "plt.show()\n"
      ]
    },
    {
      "cell_type": "code",
      "execution_count": null,
      "metadata": {
        "id": "hGsSaAURZrhp"
      },
      "outputs": [],
      "source": []
    }
  ],
  "metadata": {
    "kernelspec": {
      "display_name": "Python 3 (ipykernel)",
      "language": "python",
      "name": "python3"
    },
    "language_info": {
      "codemirror_mode": {
        "name": "ipython",
        "version": 3
      },
      "file_extension": ".py",
      "mimetype": "text/x-python",
      "name": "python",
      "nbconvert_exporter": "python",
      "pygments_lexer": "ipython3",
      "version": "3.10.0"
    },
    "colab": {
      "provenance": [],
      "include_colab_link": true
    }
  },
  "nbformat": 4,
  "nbformat_minor": 0
}
